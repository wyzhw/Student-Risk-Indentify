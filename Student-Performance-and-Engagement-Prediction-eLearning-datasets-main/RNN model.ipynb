{
 "cells": [
  {
   "attachments": {},
   "cell_type": "markdown",
   "metadata": {},
   "source": [
    "# Keras RNN"
   ]
  },
  {
   "cell_type": "code",
   "execution_count": 1,
   "metadata": {},
   "outputs": [
    {
     "name": "stdout",
     "output_type": "stream",
     "text": [
      "Epoch 1/10\n",
      "4/4 [==============================] - 1s 4ms/step - loss: 0.7280 - accuracy: 0.5300\n",
      "Epoch 2/10\n",
      "4/4 [==============================] - 0s 3ms/step - loss: 0.7234 - accuracy: 0.5200\n",
      "Epoch 3/10\n",
      "4/4 [==============================] - 0s 4ms/step - loss: 0.7209 - accuracy: 0.5400\n",
      "Epoch 4/10\n",
      "4/4 [==============================] - 0s 3ms/step - loss: 0.7185 - accuracy: 0.5300\n",
      "Epoch 5/10\n",
      "4/4 [==============================] - 0s 4ms/step - loss: 0.7165 - accuracy: 0.5400\n",
      "Epoch 6/10\n",
      "4/4 [==============================] - 0s 3ms/step - loss: 0.7151 - accuracy: 0.5500\n",
      "Epoch 7/10\n",
      "4/4 [==============================] - 0s 4ms/step - loss: 0.7127 - accuracy: 0.5600\n",
      "Epoch 8/10\n",
      "4/4 [==============================] - 0s 3ms/step - loss: 0.7114 - accuracy: 0.5600\n",
      "Epoch 9/10\n",
      "4/4 [==============================] - 0s 4ms/step - loss: 0.7102 - accuracy: 0.5400\n",
      "Epoch 10/10\n",
      "4/4 [==============================] - 0s 3ms/step - loss: 0.7085 - accuracy: 0.5200\n"
     ]
    },
    {
     "data": {
      "text/plain": [
       "<keras.callbacks.History at 0x264f4e7b2e0>"
      ]
     },
     "execution_count": 1,
     "metadata": {},
     "output_type": "execute_result"
    }
   ],
   "source": [
    "import numpy as np\n",
    "from tensorflow import keras\n",
    "from tensorflow.keras.models import Sequential\n",
    "from tensorflow.keras.layers import Dense, SimpleRNN\n",
    "\n",
    "# Generate sample data\n",
    "np.random.seed(42)\n",
    "X = np.random.randn(100, 10, 1)  # Input data with shape (samples, time steps, features), input_shape=(10, 1)\n",
    "y = np.random.randint(0, 2, size=(100,))  # Binary target labels\n",
    "\n",
    "# Define the RNN model\n",
    "model = Sequential()\n",
    "model.add(SimpleRNN(10, input_shape=(10, 1)))  # 10 units in the RNN layer 添加一个具有 10 个单元/神经元的简单 RNN 层\n",
    "model.add(Dense(1, activation='sigmoid'))  # Output layer with sigmoid activation\n",
    "\n",
    "# Compile the model\n",
    "model.compile(loss='binary_crossentropy', optimizer='adam', metrics=['accuracy'])\n",
    "\n",
    "# Train the model\n",
    "model.fit(X, y, epochs=10, batch_size=32)\n",
    "\n"
   ]
  },
  {
   "cell_type": "code",
   "execution_count": 7,
   "metadata": {},
   "outputs": [
    {
     "data": {
      "text/plain": [
       "array([[[-1.25040773],\n",
       "        [ 0.60451533],\n",
       "        [ 0.88233306],\n",
       "        [-0.45209033],\n",
       "        [-0.47004215],\n",
       "        [ 0.26587823],\n",
       "        [-0.43671974],\n",
       "        [-0.06613261],\n",
       "        [ 2.09972179],\n",
       "        [-0.2470257 ]]])"
      ]
     },
     "execution_count": 7,
     "metadata": {},
     "output_type": "execute_result"
    }
   ],
   "source": []
  },
  {
   "cell_type": "code",
   "execution_count": 2,
   "metadata": {},
   "outputs": [
    {
     "name": "stdout",
     "output_type": "stream",
     "text": [
      "1/1 [==============================] - 0s 176ms/step\n",
      "[[0.6641571 ]\n",
      " [0.29918593]\n",
      " [0.56169444]\n",
      " [0.58459646]\n",
      " [0.32772917]]\n"
     ]
    }
   ],
   "source": [
    "# Make predictions\n",
    "new_X = np.random.randn(5, 10, 1)  # New input data for prediction\n",
    "predictions = model.predict(new_X)\n",
    "\n",
    "print(predictions)\n"
   ]
  }
 ],
 "metadata": {
  "kernelspec": {
   "display_name": "Python 3",
   "language": "python",
   "name": "python3"
  },
  "language_info": {
   "codemirror_mode": {
    "name": "ipython",
    "version": 3
   },
   "file_extension": ".py",
   "mimetype": "text/x-python",
   "name": "python",
   "nbconvert_exporter": "python",
   "pygments_lexer": "ipython3",
   "version": "3.10.11"
  },
  "orig_nbformat": 4
 },
 "nbformat": 4,
 "nbformat_minor": 2
}
