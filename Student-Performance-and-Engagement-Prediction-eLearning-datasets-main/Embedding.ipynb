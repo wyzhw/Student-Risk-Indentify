{
 "cells": [
  {
   "attachments": {},
   "cell_type": "markdown",
   "metadata": {},
   "source": [
    "# Keras RNN"
   ]
  },
  {
   "cell_type": "code",
   "execution_count": 14,
   "metadata": {},
   "outputs": [
    {
     "name": "stdout",
     "output_type": "stream",
     "text": [
      "Epoch 1/10\n",
      "16/16 [==============================] - 1s 2ms/step - loss: 0.7888 - accuracy: 0.5062\n",
      "Epoch 2/10\n",
      "16/16 [==============================] - 0s 2ms/step - loss: 0.7721 - accuracy: 0.5103\n",
      "Epoch 3/10\n",
      "16/16 [==============================] - 0s 2ms/step - loss: 0.7586 - accuracy: 0.5103\n",
      "Epoch 4/10\n",
      "16/16 [==============================] - 0s 2ms/step - loss: 0.7472 - accuracy: 0.5226\n",
      "Epoch 5/10\n",
      "16/16 [==============================] - 0s 2ms/step - loss: 0.7357 - accuracy: 0.5226\n",
      "Epoch 6/10\n",
      "16/16 [==============================] - 0s 2ms/step - loss: 0.7273 - accuracy: 0.5370\n",
      "Epoch 7/10\n",
      "16/16 [==============================] - 0s 2ms/step - loss: 0.7183 - accuracy: 0.5391\n",
      "Epoch 8/10\n",
      "16/16 [==============================] - 0s 2ms/step - loss: 0.7112 - accuracy: 0.5391\n",
      "Epoch 9/10\n",
      "16/16 [==============================] - 0s 2ms/step - loss: 0.7047 - accuracy: 0.5514\n",
      "Epoch 10/10\n",
      "16/16 [==============================] - 0s 2ms/step - loss: 0.6986 - accuracy: 0.5617\n"
     ]
    },
    {
     "data": {
      "text/plain": [
       "<keras.callbacks.History at 0x127fab01c90>"
      ]
     },
     "execution_count": 14,
     "metadata": {},
     "output_type": "execute_result"
    }
   ],
   "source": [
    "import numpy as np\n",
    "from tensorflow import keras\n",
    "from tensorflow.keras.models import Sequential\n",
    "from tensorflow.keras.layers import Dense, SimpleRNN, Embedding\n",
    "from keras.models import Sequential\n",
    "\n",
    "# Generate sample data\n",
    "np.random.seed(42)\n",
    "X = np.random.randn(486, 3, 10)  # Input data with shape (samples, time steps, features), input_shape=(3, 10)\n",
    "y = np.random.randint(0, 2, size=(486,))  # Binary target labels\n",
    "\n",
    "# Define the RNN model\n",
    "model = Sequential()\n",
    "model.add(SimpleRNN(10, input_shape=(3, 10)))  # 10 units in the RNN layer 添加一个具有 10 个单元/神经元的简单 RNN 层\n",
    "model.add(Dense(1, activation='sigmoid'))  # Output layer with sigmoid activation\n",
    "\n",
    "# Compile the model\n",
    "model.compile(loss='binary_crossentropy', optimizer='adam', metrics=['accuracy'])\n",
    "\n",
    "# Train the model\n",
    "model.fit(X, y, epochs=10, batch_size=32)"
   ]
  },
  {
   "attachments": {},
   "cell_type": "markdown",
   "metadata": {},
   "source": [
    "## Test Embedding"
   ]
  },
  {
   "cell_type": "code",
   "execution_count": 22,
   "metadata": {},
   "outputs": [],
   "source": [
    "X = np.array([1, 2, 3])"
   ]
  },
  {
   "cell_type": "code",
   "execution_count": 25,
   "metadata": {},
   "outputs": [
    {
     "name": "stdout",
     "output_type": "stream",
     "text": [
      "Epoch 1/10\n",
      "16/16 [==============================] - 1s 2ms/step - loss: 0.6928 - accuracy: 0.5247\n",
      "Epoch 2/10\n",
      "16/16 [==============================] - 0s 2ms/step - loss: 0.6900 - accuracy: 0.5700\n",
      "Epoch 3/10\n",
      "16/16 [==============================] - 0s 2ms/step - loss: 0.6877 - accuracy: 0.5700\n",
      "Epoch 4/10\n",
      "16/16 [==============================] - 0s 2ms/step - loss: 0.6847 - accuracy: 0.5658\n",
      "Epoch 5/10\n",
      "16/16 [==============================] - 0s 2ms/step - loss: 0.6809 - accuracy: 0.5802\n",
      "Epoch 6/10\n",
      "16/16 [==============================] - 0s 2ms/step - loss: 0.6769 - accuracy: 0.5926\n",
      "Epoch 7/10\n",
      "16/16 [==============================] - 0s 2ms/step - loss: 0.6725 - accuracy: 0.5926\n",
      "Epoch 8/10\n",
      "16/16 [==============================] - 0s 2ms/step - loss: 0.6674 - accuracy: 0.6091\n",
      "Epoch 9/10\n",
      "16/16 [==============================] - 0s 2ms/step - loss: 0.6612 - accuracy: 0.6132\n",
      "Epoch 10/10\n",
      "16/16 [==============================] - 0s 2ms/step - loss: 0.6558 - accuracy: 0.6235\n"
     ]
    },
    {
     "data": {
      "text/plain": [
       "<keras.callbacks.History at 0x127ffeca380>"
      ]
     },
     "execution_count": 25,
     "metadata": {},
     "output_type": "execute_result"
    }
   ],
   "source": [
    "# Generate sample data\n",
    "np.random.seed(42)\n",
    "X = np.random.randint(0, 20, size=(486, 3)) # Input data with assignemt of tasks from 1 to 20\n",
    "y = np.random.randint(0, 2, size=(486,)) # Binary target labels\n",
    "\n",
    "vocab_size = 21 # Define vocabulary size (number of tasks + 1)\n",
    "embedding_dim = 10 # Define embedding dimension\n",
    "embedding_layer = Embedding(input_dim=vocab_size, output_dim=embedding_dim)\n",
    "\n",
    "# Define the RNN model\n",
    "model = Sequential()\n",
    "model.add(embedding_layer)\n",
    "model.add(SimpleRNN(10)) # 10 units in the RNN layer\n",
    "model.add(Dense(1, activation='sigmoid')) # Output layer with sigmoid activation\n",
    "\n",
    "# Compile the model\n",
    "model.compile(loss='binary_crossentropy', optimizer='adam', metrics=['accuracy'])\n",
    "\n",
    "# Train the model\n",
    "model.fit(X, y, epochs=10, batch_size=32)\n"
   ]
  },
  {
   "cell_type": "code",
   "execution_count": null,
   "metadata": {},
   "outputs": [],
   "source": [
    "X = np.random.randint(1, 21, size=(486, 3))"
   ]
  },
  {
   "cell_type": "code",
   "execution_count": 26,
   "metadata": {},
   "outputs": [
    {
     "data": {
      "text/plain": [
       "array([[ 6, 19, 14],\n",
       "       [10,  7,  6],\n",
       "       [18, 10, 10],\n",
       "       ...,\n",
       "       [17, 13, 14],\n",
       "       [11,  3,  2],\n",
       "       [19, 11,  6]])"
      ]
     },
     "execution_count": 26,
     "metadata": {},
     "output_type": "execute_result"
    }
   ],
   "source": [
    "X"
   ]
  },
  {
   "cell_type": "code",
   "execution_count": 2,
   "metadata": {},
   "outputs": [
    {
     "name": "stdout",
     "output_type": "stream",
     "text": [
      "1/1 [==============================] - 0s 176ms/step\n",
      "[[0.6641571 ]\n",
      " [0.29918593]\n",
      " [0.56169444]\n",
      " [0.58459646]\n",
      " [0.32772917]]\n"
     ]
    }
   ],
   "source": [
    "# Make predictions\n",
    "new_X = np.random.randn(5, 10, 1)  # New input data for prediction\n",
    "predictions = model.predict(new_X)\n",
    "\n",
    "print(predictions)\n"
   ]
  },
  {
   "attachments": {},
   "cell_type": "markdown",
   "metadata": {},
   "source": [
    "# Assignment Embedding Layer"
   ]
  },
  {
   "cell_type": "code",
   "execution_count": 36,
   "metadata": {},
   "outputs": [],
   "source": [
    "import tensorflow as tf"
   ]
  },
  {
   "cell_type": "code",
   "execution_count": 37,
   "metadata": {},
   "outputs": [],
   "source": [
    "# Embed a 1,000 word vocabulary into 5 dimensions.\n",
    "embedding_layer = tf.keras.layers.Embedding(10, 10)"
   ]
  },
  {
   "cell_type": "code",
   "execution_count": 38,
   "metadata": {},
   "outputs": [
    {
     "data": {
      "text/plain": [
       "array([[-0.00951355, -0.02032955,  0.02989871, -0.04998751,  0.00969943,\n",
       "        -0.00868798,  0.03383798,  0.03075005, -0.02886821,  0.02299782],\n",
       "       [ 0.00440685,  0.01936383,  0.00590909,  0.01621119,  0.00730511,\n",
       "         0.03946422, -0.00696025, -0.04646741, -0.00942241,  0.04137594],\n",
       "       [-0.02887825,  0.03286112,  0.04343507, -0.01831485, -0.01392204,\n",
       "         0.0078887 , -0.02087578,  0.02175638, -0.02361958,  0.03863047]],\n",
       "      dtype=float32)"
      ]
     },
     "execution_count": 38,
     "metadata": {},
     "output_type": "execute_result"
    }
   ],
   "source": [
    "result = embedding_layer(tf.constant([1, 2, 3]))\n",
    "result.numpy()"
   ]
  },
  {
   "cell_type": "code",
   "execution_count": 28,
   "metadata": {},
   "outputs": [
    {
     "name": "stdout",
     "output_type": "stream",
     "text": [
      "Model: \"sequential_10\"\n",
      "_________________________________________________________________\n",
      " Layer (type)                Output Shape              Param #   \n",
      "=================================================================\n",
      " embedding_7 (Embedding)     (None, None, 10)          200       \n",
      "                                                                 \n",
      "=================================================================\n",
      "Total params: 200\n",
      "Trainable params: 200\n",
      "Non-trainable params: 0\n",
      "_________________________________________________________________\n"
     ]
    }
   ],
   "source": [
    "import keras\n",
    "from keras.models import Sequential\n",
    "from keras.layers import Embedding\n",
    "\n",
    "# 定义词汇表大小（任务数量 + 1）\n",
    "vocab_size = 20\n",
    "\n",
    "# 定义嵌入维度\n",
    "embedding_dim = 10\n",
    "\n",
    "# 创建一个嵌入层\n",
    "embedding_layer = Embedding(input_dim=vocab_size, output_dim=embedding_dim)\n",
    "\n",
    "# 创建一个序贯模型\n",
    "model = Sequential()\n",
    "\n",
    "# 将嵌入层添加到模型中\n",
    "model.add(embedding_layer)\n",
    "\n",
    "# 编译模型\n",
    "model.compile('adam', 'mse')\n",
    "\n",
    "# 查看模型的结构\n",
    "model.summary()"
   ]
  },
  {
   "cell_type": "code",
   "execution_count": 29,
   "metadata": {},
   "outputs": [
    {
     "name": "stdout",
     "output_type": "stream",
     "text": [
      "1/1 [==============================] - 0s 39ms/step\n",
      "(1, 3, 10)\n",
      "[[[ 0.03277066  0.03353412 -0.02738808 -0.0403627   0.03706059\n",
      "   -0.02144749  0.01725075 -0.01464046  0.04349006  0.01538776]\n",
      "  [ 0.04897482  0.01192707 -0.03569414 -0.02823552  0.0291643\n",
      "   -0.03129212  0.0497495   0.00155839  0.00846449 -0.04283592]\n",
      "  [-0.03483627  0.03739676 -0.04163122 -0.01991632  0.03974898\n",
      "    0.02906796  0.02519551  0.02068539  0.024723   -0.02442544]]]\n"
     ]
    }
   ],
   "source": [
    "# 定义一个输入序列（任务索引）\n",
    "input_sequence = [1, 2, 3]\n",
    "\n",
    "# 将输入序列转换为 numpy 数组\n",
    "import numpy as np\n",
    "input_array = np.array([input_sequence])\n",
    "\n",
    "# 使用模型预测输入序列的嵌入向量\n",
    "output_array = model.predict(input_array)\n",
    "\n",
    "# 打印输出数组的形状和内容\n",
    "print(output_array.shape)\n",
    "print(output_array)"
   ]
  },
  {
   "cell_type": "code",
   "execution_count": 30,
   "metadata": {},
   "outputs": [],
   "source": [
    "import numpy as np\n",
    "\n",
    "np.random.seed(42)\n",
    "array1 = np.random.rand(486, 3, 10) # 随机生成一个(486, 3, 10)的数组\n",
    "array2 = np.random.rand(486, 3, 10) # 随机生成另一个(486, 3, 10)的数组\n",
    "array3 = np.concatenate((array1, array2), axis=2) "
   ]
  }
 ],
 "metadata": {
  "kernelspec": {
   "display_name": "Python 3",
   "language": "python",
   "name": "python3"
  },
  "language_info": {
   "codemirror_mode": {
    "name": "ipython",
    "version": 3
   },
   "file_extension": ".py",
   "mimetype": "text/x-python",
   "name": "python",
   "nbconvert_exporter": "python",
   "pygments_lexer": "ipython3",
   "version": "3.10.11"
  },
  "orig_nbformat": 4
 },
 "nbformat": 4,
 "nbformat_minor": 2
}
